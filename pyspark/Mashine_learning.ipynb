{
  "cells": [
    {
      "cell_type": "code",
      "execution_count": null,
      "metadata": {
        "colab": {
          "base_uri": "https://localhost:8080/"
        },
        "id": "hSro3PGkCbH3",
        "outputId": "323be67f-6b16-4fbd-e82c-d37cd33d33d1"
      },
      "outputs": [
        {
          "name": "stdout",
          "output_type": "stream",
          "text": [
            "\r0% [Working]\r            \rGet:1 https://cloud.r-project.org/bin/linux/ubuntu bionic-cran40/ InRelease [3,626 B]\n",
            "Ign:2 https://developer.download.nvidia.com/compute/machine-learning/repos/ubuntu1804/x86_64  InRelease\n",
            "Get:3 https://developer.download.nvidia.com/compute/cuda/repos/ubuntu1804/x86_64  InRelease [1,581 B]\n",
            "Hit:4 https://developer.download.nvidia.com/compute/machine-learning/repos/ubuntu1804/x86_64  Release\n",
            "Hit:5 http://archive.ubuntu.com/ubuntu bionic InRelease\n",
            "Get:6 http://ppa.launchpad.net/c2d4u.team/c2d4u4.0+/ubuntu bionic InRelease [15.9 kB]\n",
            "Get:7 http://security.ubuntu.com/ubuntu bionic-security InRelease [88.7 kB]\n",
            "Get:8 http://archive.ubuntu.com/ubuntu bionic-updates InRelease [88.7 kB]\n",
            "Hit:9 http://ppa.launchpad.net/cran/libgit2/ubuntu bionic InRelease\n",
            "Get:10 http://archive.ubuntu.com/ubuntu bionic-backports InRelease [74.6 kB]\n",
            "Get:11 https://cloud.r-project.org/bin/linux/ubuntu bionic-cran40/ Packages [91.1 kB]\n",
            "Get:12 https://developer.download.nvidia.com/compute/cuda/repos/ubuntu1804/x86_64  Packages [912 kB]\n",
            "Get:14 http://security.ubuntu.com/ubuntu bionic-security/universe amd64 Packages [1,540 kB]\n",
            "Get:15 http://security.ubuntu.com/ubuntu bionic-security/main amd64 Packages [2,953 kB]\n",
            "Get:16 http://security.ubuntu.com/ubuntu bionic-security/restricted amd64 Packages [1,114 kB]\n",
            "Get:17 http://archive.ubuntu.com/ubuntu bionic-updates/main amd64 Packages [3,390 kB]\n",
            "Get:18 http://archive.ubuntu.com/ubuntu bionic-updates/universe amd64 Packages [2,318 kB]\n",
            "Get:19 http://archive.ubuntu.com/ubuntu bionic-updates/restricted amd64 Packages [1,162 kB]\n",
            "Hit:20 http://ppa.launchpad.net/deadsnakes/ppa/ubuntu bionic InRelease\n",
            "Hit:21 http://ppa.launchpad.net/graphics-drivers/ppa/ubuntu bionic InRelease\n",
            "Get:22 http://ppa.launchpad.net/c2d4u.team/c2d4u4.0+/ubuntu bionic/main Sources [2,098 kB]\n",
            "Get:23 http://ppa.launchpad.net/c2d4u.team/c2d4u4.0+/ubuntu bionic/main amd64 Packages [1,076 kB]\n",
            "Fetched 16.9 MB in 18s (934 kB/s)\n",
            "Reading package lists... Done\n"
          ]
        }
      ],
      "source": [
        "import os\n",
        "# Find the latest version of spark 3.0 from http://www.apache.org/dist/spark/ and enter as the spark version\n",
        "# For example:\n",
        "# spark_version = 'spark-3.0.3'\n",
        "spark_version = 'spark-3.1.3'\n",
        "os.environ['SPARK_VERSION']=spark_version\n",
        "\n",
        "# Install Spark and Java\n",
        "!apt-get update\n",
        "!apt-get install openjdk-11-jdk-headless -qq > /dev/null\n",
        "!wget -q http://www.apache.org/dist/spark/$SPARK_VERSION/$SPARK_VERSION-bin-hadoop2.7.tgz\n",
        "!tar xf $SPARK_VERSION-bin-hadoop2.7.tgz\n",
        "!pip install -q findspark\n",
        "\n",
        "# Set Environment Variables\n",
        "import os\n",
        "os.environ[\"JAVA_HOME\"] = \"/usr/lib/jvm/java-11-openjdk-amd64\"\n",
        "os.environ[\"SPARK_HOME\"] = f\"/content/{spark_version}-bin-hadoop2.7\"\n",
        "\n",
        "# Start a SparkSession\n",
        "import findspark\n",
        "findspark.init()"
      ],
      "id": "hSro3PGkCbH3"
    },
    {
      "cell_type": "code",
      "execution_count": null,
      "metadata": {
        "id": "9a4f4e02"
      },
      "outputs": [],
      "source": [
        "from pyspark.ml.feature import Tokenizer\n",
        "from pyspark.sql import SparkSession\n",
        "import findspark\n",
        "findspark.init()"
      ],
      "id": "9a4f4e02"
    },
    {
      "cell_type": "code",
      "execution_count": null,
      "metadata": {
        "colab": {
          "base_uri": "https://localhost:8080/"
        },
        "id": "-EEteMUzCHi5",
        "outputId": "550a8add-c786-4872-c4db-94dbf9762372"
      },
      "outputs": [
        {
          "name": "stdout",
          "output_type": "stream",
          "text": [
            "Mounted at /content/drive\n"
          ]
        }
      ],
      "source": [
        "from google.colab import drive\n",
        "drive.mount('/content/drive')"
      ],
      "id": "-EEteMUzCHi5"
    },
    {
      "cell_type": "code",
      "execution_count": null,
      "metadata": {
        "id": "c08b692c"
      },
      "outputs": [],
      "source": [
        "spark = SparkSession.builder.appName(\"Tokens\").getOrCreate()"
      ],
      "id": "c08b692c"
    },
    {
      "cell_type": "code",
      "execution_count": null,
      "metadata": {
        "id": "66d0d29b"
      },
      "outputs": [],
      "source": [
        "news_spark = spark.read.csv(\"/content/drive/My Drive/fake.csv\",sep='\\t', header = True)"
      ],
      "id": "66d0d29b"
    },
    {
      "cell_type": "code",
      "execution_count": null,
      "metadata": {
        "colab": {
          "base_uri": "https://localhost:8080/"
        },
        "id": "eb01521c",
        "outputId": "fd1c2a9d-3ae5-4585-d45a-9df149a774f0",
        "scrolled": true
      },
      "outputs": [
        {
          "name": "stdout",
          "output_type": "stream",
          "text": [
            "+---+--------------------+--------------------+-----+\n",
            "|_c0|               title|                text|label|\n",
            "+---+--------------------+--------------------+-----+\n",
            "|  0|LAW ENFORCEMENT O...|No comment is exp...|    1|\n",
            "|  1|                ghgg|Did they post the...|    1|\n",
            "|  2|UNBELIEVABLE! OBA...| Now, most of the...|    1|\n",
            "+---+--------------------+--------------------+-----+\n",
            "only showing top 3 rows\n",
            "\n"
          ]
        }
      ],
      "source": [
        "news_spark.show(3)"
      ],
      "id": "eb01521c"
    },
    {
      "cell_type": "code",
      "execution_count": null,
      "metadata": {
        "id": "6HQHXsezs8dA"
      },
      "outputs": [],
      "source": [
        "from pyspark.sql.functions import concat,col,lit\n",
        "test = news_spark.select(\"*\", concat(col(\"title\"),lit(\"-\"),col(\"text\")).alias(\"text1\"))\n",
        "news_spark = test"
      ],
      "id": "6HQHXsezs8dA"
    },
    {
      "cell_type": "code",
      "execution_count": null,
      "metadata": {
        "id": "b2cd9a0d"
      },
      "outputs": [],
      "source": [
        "# Tokenize sentences\n",
        "tok_title = Tokenizer(inputCol=\"title\", outputCol=\"Tok_title\")\n",
        "tok_text = Tokenizer(inputCol = \"text1\", outputCol= \"Tok_text\")"
      ],
      "id": "b2cd9a0d"
    },
    {
      "cell_type": "code",
      "execution_count": null,
      "metadata": {
        "colab": {
          "base_uri": "https://localhost:8080/"
        },
        "id": "50fb9827",
        "outputId": "5d532f29-00da-4b74-ba68-bcdd3db48a4b"
      },
      "outputs": [
        {
          "data": {
            "text/plain": [
              "[Row(label='0'), Row(label='1')]"
            ]
          },
          "execution_count": 9,
          "metadata": {},
          "output_type": "execute_result"
        }
      ],
      "source": [
        "news_spark.select('label').distinct().collect()"
      ],
      "id": "50fb9827"
    },
    {
      "cell_type": "code",
      "execution_count": null,
      "metadata": {
        "id": "d002699e"
      },
      "outputs": [],
      "source": [
        "def word_list_length(word_list):\n",
        "    return len(word_list)\n",
        "from pyspark.sql.functions import col, udf\n",
        "from pyspark.sql.types import IntegerType\n",
        "# Create a user defined function\n",
        "count_tokens = udf(word_list_length, IntegerType())"
      ],
      "id": "d002699e"
    },
    {
      "cell_type": "code",
      "execution_count": null,
      "metadata": {
        "colab": {
          "base_uri": "https://localhost:8080/"
        },
        "id": "13ada9a5",
        "outputId": "d4f7fcd7-fa5d-4505-8cdf-ba6910ef9404"
      },
      "outputs": [
        {
          "name": "stdout",
          "output_type": "stream",
          "text": [
            "+---+--------------------+--------------------+-----+--------------------+--------------------+--------------------+------------+-----------+\n",
            "|_c0|               title|                text|label|               text1|           Tok_title|            Tok_text|title tokens|text tokens|\n",
            "+---+--------------------+--------------------+-----+--------------------+--------------------+--------------------+------------+-----------+\n",
            "|  0|LAW ENFORCEMENT O...|No comment is exp...|    1|LAW ENFORCEMENT O...|[law, enforcement...|[law, enforcement...|          18|        958|\n",
            "|  1|                ghgg|Did they post the...|    1|ghgg-Did they pos...|              [ghgg]|[ghgg-did, they, ...|           1|          8|\n",
            "+---+--------------------+--------------------+-----+--------------------+--------------------+--------------------+------------+-----------+\n",
            "only showing top 2 rows\n",
            "\n"
          ]
        }
      ],
      "source": [
        "tokenized_df = tok_title.transform(news_spark)\n",
        "tokenized_df = tok_text.transform(tokenized_df)\n",
        "tokenized_df = tokenized_df.withColumn(\"title tokens\", count_tokens(col(\"Tok_title\")))\n",
        "tokenized_df =  tokenized_df.withColumn(\"text tokens\", count_tokens(col(\"Tok_text\")))\n",
        "tokenized_df.show(2)"
      ],
      "id": "13ada9a5"
    },
    {
      "cell_type": "code",
      "execution_count": null,
      "metadata": {
        "colab": {
          "base_uri": "https://localhost:8080/"
        },
        "id": "a78f5bd1",
        "outputId": "0a2a7178-5d26-4b9d-ce2c-1a620e26a69d"
      },
      "outputs": [
        {
          "name": "stdout",
          "output_type": "stream",
          "text": [
            "+---+--------------------+--------------------+-----+--------------------+--------------------+--------------------+------------+-----------+--------------------+--------------------+\n",
            "|_c0|               title|                text|label|               text1|           Tok_title|            Tok_text|title tokens|text tokens|          stop_title|           stop_text|\n",
            "+---+--------------------+--------------------+-----+--------------------+--------------------+--------------------+------------+-----------+--------------------+--------------------+\n",
            "|  0|LAW ENFORCEMENT O...|No comment is exp...|    1|LAW ENFORCEMENT O...|[law, enforcement...|[law, enforcement...|          18|        958|[law, enforcement...|[law, enforcement...|\n",
            "|  1|                ghgg|Did they post the...|    1|ghgg-Did they pos...|              [ghgg]|[ghgg-did, they, ...|           1|          8|              [ghgg]|[ghgg-did, post, ...|\n",
            "|  2|UNBELIEVABLE! OBA...| Now, most of the...|    1|UNBELIEVABLE! OBA...|[unbelievable!, o...|[unbelievable!, o...|          18|         55|[unbelievable!, o...|[unbelievable!, o...|\n",
            "|  3|Bobby Jindal, rai...|A dozen political...|    0|Bobby Jindal, rai...|[bobby, jindal,, ...|[bobby, jindal,, ...|          16|       1305|[bobby, jindal,, ...|[bobby, jindal,, ...|\n",
            "|  4|SATAN 2: Russia u...|The RS-28 Sarmat ...|    1|SATAN 2: Russia u...|[satan, 2:, russi...|[satan, 2:, russi...|          16|        344|[satan, 2:, russi...|[satan, 2:, russi...|\n",
            "|  5|About Time! Chris...|All we can say on...|    1|About Time! Chris...|[about, time!, ch...|[about, time!, ch...|          13|        267|[time!, christian...|[time!, christian...|\n",
            "|  6|DR BEN CARSON TAR...|DR. BEN CARSON TE...|    1|DR BEN CARSON TAR...|[dr, ben, carson,...|[dr, ben, carson,...|          20|         34|[dr, ben, carson,...|[dr, ben, carson,...|\n",
            "|  7|HOUSE INTEL CHAIR...|                ghgg|    1|HOUSE INTEL CHAIR...|[house, intel, ch...|[house, intel, ch...|          12|         12|[house, intel, ch...|[house, intel, ch...|\n",
            "|  8|Sports Bar Owner ...|The owner of the ...|    1|Sports Bar Owner ...|[sports, bar, own...|[sports, bar, own...|          19|        288|[sports, bar, own...|[sports, bar, own...|\n",
            "|  9|Latest Pipeline L...|FILE – In this Se...|    1|Latest Pipeline L...|[latest, pipeline...|[latest, pipeline...|           9|        481|[latest, pipeline...|[latest, pipeline...|\n",
            "| 10| GOP Senator Just...|\"The most punchab...|    1| GOP Senator Just...|[, gop, senator, ...|[, gop, senator, ...|          14|        737|[, gop, senator, ...|[, gop, senator, ...|\n",
            "| 11|May Brexit offer ...|BRUSSELS (Reuters...|    0|May Brexit offer ...|[may, brexit, off...|[may, brexit, off...|          11|        416|[may, brexit, off...|[may, brexit, off...|\n",
            "| 12|Schumer calls on ...|WASHINGTON (Reute...|    0|Schumer calls on ...|[schumer, calls, ...|[schumer, calls, ...|          12|        441|[schumer, calls, ...|[schumer, calls, ...|\n",
            "| 13|WATCH: HILARIOUS ...|After watching th...|    1|WATCH: HILARIOUS ...|[watch:, hilariou...|[watch:, hilariou...|          13|         50|[watch:, hilariou...|[watch:, hilariou...|\n",
            "| 14|No Change Expecte...|As more and more ...|    0|No Change Expecte...|[no, change, expe...|[no, change, expe...|          13|        529|[change, expected...|[change, expected...|\n",
            "| 15|Billionaire Odebr...|RIO DE JANEIRO/SA...|    0|Billionaire Odebr...|[billionaire, ode...|[billionaire, ode...|           9|        264|[billionaire, ode...|[billionaire, ode...|\n",
            "| 16|BRITISH WOMAN LOS...|Europe is likely ...|    1|BRITISH WOMAN LOS...|[british, woman, ...|[british, woman, ...|          13|        638|[british, woman, ...|[british, woman, ...|\n",
            "| 17|\"U.N. seeks human...|GENEVA (Reuters) ...|    0|\"U.N. seeks human...|[\"u.n., seeks, hu...|[\"u.n., seeks, hu...|           9|        166|[\"u.n., seeks, hu...|[\"u.n., seeks, hu...|\n",
            "| 18|MAJOR LIBERAL RAG...|The Atlantic, a p...|    1|MAJOR LIBERAL RAG...|[major, liberal, ...|[major, liberal, ...|          20|       1177|[major, liberal, ...|[major, liberal, ...|\n",
            "| 19|Second judge says...|NEW YORK (Reuters...|    0|Second judge says...|[second, judge, s...|[second, judge, s...|          12|        421|[second, judge, s...|[second, judge, s...|\n",
            "+---+--------------------+--------------------+-----+--------------------+--------------------+--------------------+------------+-----------+--------------------+--------------------+\n",
            "only showing top 20 rows\n",
            "\n"
          ]
        }
      ],
      "source": [
        "from pyspark.ml.feature import StopWordsRemover\n",
        "stop_title = StopWordsRemover(inputCol=\"Tok_title\", outputCol=\"stop_title\")\n",
        "stop_text = StopWordsRemover(inputCol=\"Tok_text\", outputCol=\"stop_text\")\n",
        "filtered = stop_title.transform(tokenized_df)\n",
        "filtered = stop_text.transform(filtered)\n",
        "filtered.show()"
      ],
      "id": "a78f5bd1"
    },
    {
      "cell_type": "code",
      "execution_count": null,
      "metadata": {
        "colab": {
          "base_uri": "https://localhost:8080/"
        },
        "id": "ae6a48a8",
        "outputId": "7829dada-c3d0-4066-c264-bbed4accafef"
      },
      "outputs": [
        {
          "name": "stdout",
          "output_type": "stream",
          "text": [
            "+---+--------------------+--------------------+-----+--------------------+--------------------+--------------------+------------+-----------+--------------------+--------------------+--------------------+--------------------+\n",
            "|_c0|               title|                text|label|               text1|           Tok_title|            Tok_text|title tokens|text tokens|          stop_title|           stop_text|          hash_title|           hash_text|\n",
            "+---+--------------------+--------------------+-----+--------------------+--------------------+--------------------+------------+-----------+--------------------+--------------------+--------------------+--------------------+\n",
            "|  0|LAW ENFORCEMENT O...|No comment is exp...|    1|LAW ENFORCEMENT O...|[law, enforcement...|[law, enforcement...|          18|        958|[law, enforcement...|[law, enforcement...|(262144,[19684,22...|(262144,[619,992,...|\n",
            "|  1|                ghgg|Did they post the...|    1|ghgg-Did they pos...|              [ghgg]|[ghgg-did, they, ...|           1|          8|              [ghgg]|[ghgg-did, post, ...|(262144,[45523],[...|(262144,[84100,10...|\n",
            "|  2|UNBELIEVABLE! OBA...| Now, most of the...|    1|UNBELIEVABLE! OBA...|[unbelievable!, o...|[unbelievable!, o...|          18|         55|[unbelievable!, o...|[unbelievable!, o...|(262144,[17893,31...|(262144,[3564,538...|\n",
            "|  3|Bobby Jindal, rai...|A dozen political...|    0|Bobby Jindal, rai...|[bobby, jindal,, ...|[bobby, jindal,, ...|          16|       1305|[bobby, jindal,, ...|[bobby, jindal,, ...|(262144,[54679,11...|(262144,[511,1546...|\n",
            "|  4|SATAN 2: Russia u...|The RS-28 Sarmat ...|    1|SATAN 2: Russia u...|[satan, 2:, russi...|[satan, 2:, russi...|          16|        344|[satan, 2:, russi...|[satan, 2:, russi...|(262144,[3571,171...|(262144,[161,921,...|\n",
            "|  5|About Time! Chris...|All we can say on...|    1|About Time! Chris...|[about, time!, ch...|[about, time!, ch...|          13|        267|[time!, christian...|[time!, christian...|(262144,[30367,72...|(262144,[2162,227...|\n",
            "|  6|DR BEN CARSON TAR...|DR. BEN CARSON TE...|    1|DR BEN CARSON TAR...|[dr, ben, carson,...|[dr, ben, carson,...|          20|         34|[dr, ben, carson,...|[dr, ben, carson,...|(262144,[36217,83...|(262144,[29066,36...|\n",
            "|  7|HOUSE INTEL CHAIR...|                ghgg|    1|HOUSE INTEL CHAIR...|[house, intel, ch...|[house, intel, ch...|          12|         12|[house, intel, ch...|[house, intel, ch...|(262144,[20326,31...|(262144,[20326,52...|\n",
            "|  8|Sports Bar Owner ...|The owner of the ...|    1|Sports Bar Owner ...|[sports, bar, own...|[sports, bar, own...|          19|        288|[sports, bar, own...|[sports, bar, own...|(262144,[31895,66...|(262144,[960,6957...|\n",
            "|  9|Latest Pipeline L...|FILE – In this Se...|    1|Latest Pipeline L...|[latest, pipeline...|[latest, pipeline...|           9|        481|[latest, pipeline...|[latest, pipeline...|(262144,[41421,59...|(262144,[1546,160...|\n",
            "| 10| GOP Senator Just...|\"The most punchab...|    1| GOP Senator Just...|[, gop, senator, ...|[, gop, senator, ...|          14|        737|[, gop, senator, ...|[, gop, senator, ...|(262144,[47685,92...|(262144,[751,1512...|\n",
            "| 11|May Brexit offer ...|BRUSSELS (Reuters...|    0|May Brexit offer ...|[may, brexit, off...|[may, brexit, off...|          11|        416|[may, brexit, off...|[may, brexit, off...|(262144,[18923,38...|(262144,[115,1772...|\n",
            "| 12|Schumer calls on ...|WASHINGTON (Reute...|    0|Schumer calls on ...|[schumer, calls, ...|[schumer, calls, ...|          12|        441|[schumer, calls, ...|[schumer, calls, ...|(262144,[36525,44...|(262144,[1096,153...|\n",
            "| 13|WATCH: HILARIOUS ...|After watching th...|    1|WATCH: HILARIOUS ...|[watch:, hilariou...|[watch:, hilariou...|          13|         50|[watch:, hilariou...|[watch:, hilariou...|(262144,[33803,62...|(262144,[2437,338...|\n",
            "| 14|No Change Expecte...|As more and more ...|    0|No Change Expecte...|[no, change, expe...|[no, change, expe...|          13|        529|[change, expected...|[change, expected...|(262144,[968,3864...|(262144,[968,1115...|\n",
            "| 15|Billionaire Odebr...|RIO DE JANEIRO/SA...|    0|Billionaire Odebr...|[billionaire, ode...|[billionaire, ode...|           9|        264|[billionaire, ode...|[billionaire, ode...|(262144,[25838,60...|(262144,[2015,230...|\n",
            "| 16|BRITISH WOMAN LOS...|Europe is likely ...|    1|BRITISH WOMAN LOS...|[british, woman, ...|[british, woman, ...|          13|        638|[british, woman, ...|[british, woman, ...|(262144,[28155,51...|(262144,[1619,392...|\n",
            "| 17|\"U.N. seeks human...|GENEVA (Reuters) ...|    0|\"U.N. seeks human...|[\"u.n., seeks, hu...|[\"u.n., seeks, hu...|           9|        166|[\"u.n., seeks, hu...|[\"u.n., seeks, hu...|(262144,[16398,10...|(262144,[2622,594...|\n",
            "| 18|MAJOR LIBERAL RAG...|The Atlantic, a p...|    1|MAJOR LIBERAL RAG...|[major, liberal, ...|[major, liberal, ...|          20|       1177|[major, liberal, ...|[major, liberal, ...|(262144,[22124,37...|(262144,[1519,154...|\n",
            "| 19|Second judge says...|NEW YORK (Reuters...|    0|Second judge says...|[second, judge, s...|[second, judge, s...|          12|        421|[second, judge, s...|[second, judge, s...|(262144,[31544,75...|(262144,[3148,356...|\n",
            "+---+--------------------+--------------------+-----+--------------------+--------------------+--------------------+------------+-----------+--------------------+--------------------+--------------------+--------------------+\n",
            "only showing top 20 rows\n",
            "\n"
          ]
        }
      ],
      "source": [
        "from pyspark.ml.feature import Tokenizer, StopWordsRemover, HashingTF, IDF, StringIndexer\n",
        "hashingTF1 = HashingTF(inputCol=\"stop_title\", outputCol=\"hash_title\")\n",
        "hashingTF2 = HashingTF(inputCol=\"stop_text\", outputCol=\"hash_text\")\n",
        "hashed_df = hashingTF1.transform(filtered)\n",
        "hashed_df = hashingTF2.transform(hashed_df)\n",
        "\n",
        "hashed_df.show()"
      ],
      "id": "ae6a48a8"
    },
    {
      "cell_type": "code",
      "execution_count": null,
      "metadata": {
        "colab": {
          "base_uri": "https://localhost:8080/"
        },
        "id": "23dd082f",
        "outputId": "64f37b9c-6512-4854-dc7e-a1dad990bd7b"
      },
      "outputs": [
        {
          "name": "stdout",
          "output_type": "stream",
          "text": [
            "+--------------------+--------------------+--------------------+\n",
            "|          hash_title|           hash_text|           idf_title|\n",
            "+--------------------+--------------------+--------------------+\n",
            "|(262144,[19684,22...|(262144,[619,992,...|(262144,[19684,22...|\n",
            "|(262144,[45523],[...|(262144,[84100,10...|(262144,[45523],[...|\n",
            "|(262144,[17893,31...|(262144,[3564,538...|(262144,[17893,31...|\n",
            "|(262144,[54679,11...|(262144,[511,1546...|(262144,[54679,11...|\n",
            "|(262144,[3571,171...|(262144,[161,921,...|(262144,[3571,171...|\n",
            "|(262144,[30367,72...|(262144,[2162,227...|(262144,[30367,72...|\n",
            "|(262144,[36217,83...|(262144,[29066,36...|(262144,[36217,83...|\n",
            "|(262144,[20326,31...|(262144,[20326,52...|(262144,[20326,31...|\n",
            "|(262144,[31895,66...|(262144,[960,6957...|(262144,[31895,66...|\n",
            "|(262144,[41421,59...|(262144,[1546,160...|(262144,[41421,59...|\n",
            "|(262144,[47685,92...|(262144,[751,1512...|(262144,[47685,92...|\n",
            "|(262144,[18923,38...|(262144,[115,1772...|(262144,[18923,38...|\n",
            "|(262144,[36525,44...|(262144,[1096,153...|(262144,[36525,44...|\n",
            "|(262144,[33803,62...|(262144,[2437,338...|(262144,[33803,62...|\n",
            "|(262144,[968,3864...|(262144,[968,1115...|(262144,[968,3864...|\n",
            "|(262144,[25838,60...|(262144,[2015,230...|(262144,[25838,60...|\n",
            "|(262144,[28155,51...|(262144,[1619,392...|(262144,[28155,51...|\n",
            "|(262144,[16398,10...|(262144,[2622,594...|(262144,[16398,10...|\n",
            "|(262144,[22124,37...|(262144,[1519,154...|(262144,[22124,37...|\n",
            "|(262144,[31544,75...|(262144,[3148,356...|(262144,[31544,75...|\n",
            "+--------------------+--------------------+--------------------+\n",
            "only showing top 20 rows\n",
            "\n",
            "+--------------------+--------------------+--------------------+--------------------+\n",
            "|          hash_title|           hash_text|           idf_title|            idf_text|\n",
            "+--------------------+--------------------+--------------------+--------------------+\n",
            "|(262144,[19684,22...|(262144,[619,992,...|(262144,[19684,22...|(262144,[619,992,...|\n",
            "|(262144,[45523],[...|(262144,[84100,10...|(262144,[45523],[...|(262144,[84100,10...|\n",
            "|(262144,[17893,31...|(262144,[3564,538...|(262144,[17893,31...|(262144,[3564,538...|\n",
            "|(262144,[54679,11...|(262144,[511,1546...|(262144,[54679,11...|(262144,[511,1546...|\n",
            "|(262144,[3571,171...|(262144,[161,921,...|(262144,[3571,171...|(262144,[161,921,...|\n",
            "|(262144,[30367,72...|(262144,[2162,227...|(262144,[30367,72...|(262144,[2162,227...|\n",
            "|(262144,[36217,83...|(262144,[29066,36...|(262144,[36217,83...|(262144,[29066,36...|\n",
            "|(262144,[20326,31...|(262144,[20326,52...|(262144,[20326,31...|(262144,[20326,52...|\n",
            "|(262144,[31895,66...|(262144,[960,6957...|(262144,[31895,66...|(262144,[960,6957...|\n",
            "|(262144,[41421,59...|(262144,[1546,160...|(262144,[41421,59...|(262144,[1546,160...|\n",
            "|(262144,[47685,92...|(262144,[751,1512...|(262144,[47685,92...|(262144,[751,1512...|\n",
            "|(262144,[18923,38...|(262144,[115,1772...|(262144,[18923,38...|(262144,[115,1772...|\n",
            "|(262144,[36525,44...|(262144,[1096,153...|(262144,[36525,44...|(262144,[1096,153...|\n",
            "|(262144,[33803,62...|(262144,[2437,338...|(262144,[33803,62...|(262144,[2437,338...|\n",
            "|(262144,[968,3864...|(262144,[968,1115...|(262144,[968,3864...|(262144,[968,1115...|\n",
            "|(262144,[25838,60...|(262144,[2015,230...|(262144,[25838,60...|(262144,[2015,230...|\n",
            "|(262144,[28155,51...|(262144,[1619,392...|(262144,[28155,51...|(262144,[1619,392...|\n",
            "|(262144,[16398,10...|(262144,[2622,594...|(262144,[16398,10...|(262144,[2622,594...|\n",
            "|(262144,[22124,37...|(262144,[1519,154...|(262144,[22124,37...|(262144,[1519,154...|\n",
            "|(262144,[31544,75...|(262144,[3148,356...|(262144,[31544,75...|(262144,[3148,356...|\n",
            "+--------------------+--------------------+--------------------+--------------------+\n",
            "only showing top 20 rows\n",
            "\n"
          ]
        }
      ],
      "source": [
        "idf1 = IDF(inputCol=\"hash_title\", outputCol=\"idf_title\")\n",
        "idf2 = IDF(inputCol=\"hash_text\", outputCol=\"idf_text\")\n",
        "idfModel = idf1.fit(hashed_df)\n",
        "rescaledData = idfModel.transform(hashed_df)\n",
        "rescaledData.select(\"hash_title\", \"hash_text\", \"idf_title\").show()\n",
        "idfModel = idf2.fit(rescaledData)\n",
        "rescaledData = idfModel.transform(rescaledData)\n",
        "rescaledData.select(\"hash_title\", \"hash_text\", \"idf_title\", \"idf_text\").show()"
      ],
      "id": "23dd082f"
    },
    {
      "cell_type": "code",
      "execution_count": null,
      "metadata": {
        "id": "e32d337d"
      },
      "outputs": [],
      "source": [
        "from pyspark.ml.feature import VectorAssembler\n",
        "from pyspark.ml.linalg import Vector\n",
        "clean = VectorAssembler(inputCols=['idf_text', 'text tokens'], outputCol='features')"
      ],
      "id": "e32d337d"
    },
    {
      "cell_type": "code",
      "execution_count": null,
      "metadata": {
        "id": "c48e0ba9"
      },
      "outputs": [],
      "source": [
        "cleaned = clean.transform(rescaledData)"
      ],
      "id": "c48e0ba9"
    },
    {
      "cell_type": "code",
      "execution_count": null,
      "metadata": {
        "colab": {
          "base_uri": "https://localhost:8080/"
        },
        "id": "a5504bff",
        "outputId": "784e8955-b417-4485-8586-02746c98b1b5"
      },
      "outputs": [
        {
          "data": {
            "text/plain": [
              "[Row(label='0'), Row(label='1')]"
            ]
          },
          "execution_count": 17,
          "metadata": {},
          "output_type": "execute_result"
        }
      ],
      "source": [
        "cleaned.select(\"label\").distinct().collect()"
      ],
      "id": "a5504bff"
    },
    {
      "cell_type": "code",
      "execution_count": null,
      "metadata": {
        "id": "991839c3"
      },
      "outputs": [],
      "source": [
        "cleaned = cleaned.withColumn(\"label\", cleaned[\"label\"].cast('numeric'))"
      ],
      "id": "991839c3"
    },
    {
      "cell_type": "code",
      "execution_count": null,
      "metadata": {
        "id": "2d4d7290"
      },
      "outputs": [],
      "source": [
        "cleaned = cleaned.select(\"text\",\"features\",\"label\")"
      ],
      "id": "2d4d7290"
    },
    {
      "cell_type": "code",
      "execution_count": null,
      "metadata": {
        "colab": {
          "base_uri": "https://localhost:8080/"
        },
        "id": "OshTRIvZ0RQ8",
        "outputId": "2d27d34f-6c15-4432-c506-41b219f5bcb7"
      },
      "outputs": [
        {
          "name": "stdout",
          "output_type": "stream",
          "text": [
            "3Accuracy : 5.000000\n"
          ]
        }
      ],
      "source": [
        "test = 5\n",
        "i = 3\n",
        "print(str(i) +\"Accuracy : %f\" % test)"
      ],
      "id": "OshTRIvZ0RQ8"
    },
    {
      "cell_type": "code",
      "execution_count": null,
      "metadata": {
        "colab": {
          "background_save": true,
          "base_uri": "https://localhost:8080/"
        },
        "id": "zChnRDlevD8-",
        "outputId": "a41aebd3-ab5f-44be-9b8a-bbffd3908760"
      },
      "outputs": [
        {
          "name": "stdout",
          "output_type": "stream",
          "text": [
            "45Accuracy : 0.939212\n",
            "46Accuracy : 0.940787\n",
            "47Accuracy : 0.938911\n"
          ]
        }
      ],
      "source": [
        "for i in range(45,48):\n",
        "  cleaned\n",
        "  training, testing = cleaned.randomSplit([0.7, 0.3], i)\n",
        "  from pyspark.ml.classification import NaiveBayes\n",
        "  # Create a Naive Bayes model and fit training data\n",
        "  nb = NaiveBayes()\n",
        "  predictor = nb.fit(training)\n",
        "  test_results = predictor.transform(testing)\n",
        "  from pyspark.ml.evaluation import BinaryClassificationEvaluator\n",
        "  acc_eval = BinaryClassificationEvaluator(labelCol='label', rawPredictionCol = 'prediction')\n",
        "  acc = acc_eval.evaluate(test_results)\n",
        "  print(str(i) +\"Accuracy : %f\" % acc)"
      ],
      "id": "zChnRDlevD8-"
    },
    {
      "cell_type": "code",
      "execution_count": null,
      "metadata": {
        "colab": {
          "background_save": true
        },
        "id": "717d2eb8"
      },
      "outputs": [],
      "source": [
        "training, testing = cleaned.randomSplit([0.7, 0.3], 48)"
      ],
      "id": "717d2eb8"
    },
    {
      "cell_type": "code",
      "execution_count": null,
      "metadata": {
        "colab": {
          "background_save": true
        },
        "id": "4f42009c"
      },
      "outputs": [],
      "source": [
        "from pyspark.ml.classification import NaiveBayes\n",
        "# Create a Naive Bayes model and fit training data\n",
        "nb = NaiveBayes()\n",
        "predictor = nb.fit(training)"
      ],
      "id": "4f42009c"
    },
    {
      "cell_type": "code",
      "execution_count": null,
      "metadata": {
        "colab": {
          "background_save": true
        },
        "id": "c11a6b10",
        "outputId": "4bf6171e-a682-4174-d2f5-aeedbc8f5d08"
      },
      "outputs": [
        {
          "name": "stdout",
          "output_type": "stream",
          "text": [
            "+--------------------+--------------------+-----+--------------------+--------------------+----------+\n",
            "|                text|            features|label|       rawPrediction|         probability|prediction|\n",
            "+--------------------+--------------------+-----+--------------------+--------------------+----------+\n",
            "|    Barbra Streis...|(262145,[3105,538...|    0|[-13003.492272400...|[1.0,6.0623875751...|       0.0|\n",
            "|    actor Daniel ...|(262145,[1745,178...|    0|[-10754.384884971...|[1.0,4.5012626818...|       0.0|\n",
            "|    months after ...|(262145,[511,1546...|    0|[-6381.7968171430...|[1.0,2.8393452960...|       0.0|\n",
            "|   France  —   Th...|(262145,[161,324,...|    0|[-43216.029242995...|           [1.0,0.0]|       0.0|\n",
            "|   James Franco s...|(262145,[329,3657...|    0|[-6652.8472764883...|[1.0,7.8546315542...|       0.0|\n",
            "+--------------------+--------------------+-----+--------------------+--------------------+----------+\n",
            "only showing top 5 rows\n",
            "\n"
          ]
        }
      ],
      "source": [
        "test_results = predictor.transform(testing)\n",
        "test_results.show(5)"
      ],
      "id": "c11a6b10"
    },
    {
      "cell_type": "code",
      "execution_count": null,
      "metadata": {
        "colab": {
          "background_save": true
        },
        "id": "Ld00rRHYFM_r",
        "outputId": "931c8c9f-90b6-45da-c844-16201702cbb6"
      },
      "outputs": [
        {
          "name": "stdout",
          "output_type": "stream",
          "text": [
            "Accuracy of model at predicting fake news was : 0.944615\n"
          ]
        }
      ],
      "source": [
        "from pyspark.ml.evaluation import BinaryClassificationEvaluator\n",
        "acc_eval = BinaryClassificationEvaluator(labelCol='label', rawPredictionCol = 'prediction')\n",
        "acc = acc_eval.evaluate(test_results)\n",
        "print(\"Accuracy of model at predicting fake news was : %f\" % acc)"
      ],
      "id": "Ld00rRHYFM_r"
    },
    {
      "cell_type": "code",
      "execution_count": null,
      "metadata": {
        "id": "PEZQ78aV6-h1"
      },
      "outputs": [],
      "source": [
        "from google.colab import files\n",
        "test_results.toPandas().to_csv('Confusion_matrix_data.csv',encoding = 'utf-8-sig') \n",
        "files.download('Confusion_matrix_data.csv')"
      ],
      "id": "PEZQ78aV6-h1"
    },
    {
      "cell_type": "code",
      "execution_count": null,
      "metadata": {
        "id": "a6d75b34"
      },
      "outputs": [],
      "source": [
        "news_df[\"title\"].str.split(expand=True).stack().value_counts()"
      ],
      "id": "a6d75b34"
    }
  ],
  "metadata": {
    "colab": {
      "provenance": []
    },
    "kernelspec": {
      "display_name": "mlenv",
      "language": "python",
      "name": "mlenv"
    },
    "language_info": {
      "codemirror_mode": {
        "name": "ipython",
        "version": 3
      },
      "file_extension": ".py",
      "mimetype": "text/x-python",
      "name": "python",
      "nbconvert_exporter": "python",
      "pygments_lexer": "ipython3",
      "version": "3.7.11"
    }
  },
  "nbformat": 4,
  "nbformat_minor": 5
}